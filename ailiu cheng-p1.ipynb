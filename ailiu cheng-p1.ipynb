{
 "cells": [
  {
   "cell_type": "code",
   "execution_count": 1,
   "id": "98d85689",
   "metadata": {},
   "outputs": [],
   "source": [
    "import torch\n",
    "import torch.nn as nn\n",
    "import torch.optim as optim\n",
    "from torchvision import datasets, transforms\n",
    "import matplotlib.pylab as plt\n",
    "import warnings\n",
    "\n",
    "%matplotlib inline\n",
    "\n",
    "warnings.filterwarnings(action='ignore')"
   ]
  },
  {
   "cell_type": "markdown",
   "id": "425e2ee1",
   "metadata": {},
   "source": [
    "### 读取数据\n",
    "\n",
    "- 分别构建训练接和测试集（验证集）\n",
    "- DataLoader 来迭代数据"
   ]
  },
  {
   "cell_type": "code",
   "execution_count": 2,
   "id": "46df0e1b",
   "metadata": {},
   "outputs": [],
   "source": [
    "# 定义参数\n",
    "input_size = 28  # 图像的总尺寸 28*28\n",
    "num_classes = 10  # 标签的种类\n",
    "num_epochs = 3  # 训练循环周期\n",
    "batch_size = 64  # 一个批次的大小，64张图片\n",
    "learning_rate = 0.0001 #学习率"
   ]
  },
  {
   "cell_type": "code",
   "execution_count": 3,
   "id": "74e1c823",
   "metadata": {},
   "outputs": [],
   "source": [
    "# 训练集\n",
    "train_dataset = datasets.MNIST(\n",
    "    root='dataset/', train=True, transform=transforms.ToTensor(), download=True)\n",
    "\n",
    "# 测试集\n",
    "test_dataset = datasets.MNIST(\n",
    "    root='dataset/', train=False, transform=transforms.ToTensor())\n",
    "\n",
    "# 构建 batch 数据\n",
    "train_loader = torch.utils.data.DataLoader(\n",
    "    dataset=train_dataset,\n",
    "    batch_size=batch_size,\n",
    "    shuffle=True,\n",
    ")\n",
    "\n",
    "test_loader = torch.utils.data.DataLoader(\n",
    "    dataset=test_dataset,\n",
    "    batch_size=batch_size,\n",
    "    shuffle=True,\n",
    ")"
   ]
  },
  {
   "cell_type": "markdown",
   "id": "b1672abb",
   "metadata": {},
   "source": [
    "## 查看数据集中的样例\n",
    "\n",
    "- 使用 test_loader 的数据"
   ]
  },
  {
   "cell_type": "code",
   "execution_count": 4,
   "id": "23fa09a3",
   "metadata": {},
   "outputs": [],
   "source": [
    "examples = enumerate(test_loader)\n",
    "batch_idx, (example_data, example_targets) = next(examples)"
   ]
  },
  {
   "cell_type": "code",
   "execution_count": 5,
   "id": "bb60d619",
   "metadata": {},
   "outputs": [
    {
     "data": {
      "text/plain": [
       "torch.Size([64, 1, 28, 28])"
      ]
     },
     "execution_count": 5,
     "metadata": {},
     "output_type": "execute_result"
    }
   ],
   "source": [
    "example_data.shape"
   ]
  },
  {
   "cell_type": "code",
   "execution_count": 6,
   "id": "2cce0768",
   "metadata": {},
   "outputs": [
    {
     "data": {
      "image/png": "[encoded data removed]",
      "text/plain": [
       "<Figure size 432x288 with 3 Axes>"
      ]
     },
     "execution_count": 6,
     "metadata": {},
     "output_type": "execute_result"
    },
    {
     "data": {
      "image/png": "[encoded data removed]",
      "text/plain": [
       "<Figure size 432x288 with 3 Axes>"
      ]
     },
     "metadata": {},
     "output_type": "display_data"
    }
   ],
   "source": [
    "fig = plt.figure()\n",
    "\n",
    "for i in range(3):\n",
    "    plt.subplot(2, 3, i+1)\n",
    "    plt.tight_layout()\n",
    "    plt.imshow(example_data[i][0], cmap='gray', interpolation='none')\n",
    "    plt.title(\"Ground Truth: {}\".format(example_targets[i]))\n",
    "    plt.xticks([])\n",
    "    plt.yticks([])\n",
    "    \n",
    "fig"
   ]
  },
  {
   "cell_type": "markdown",
   "id": "37c02780",
   "metadata": {},
   "source": [
    "## 卷积网络模块构建\n",
    "\n",
    "- 一般卷积层、relu 层、池化层写成一个类\n",
    "- 卷积最后结果还是一个特征图，需要把图转换成向量才能做分类任务或回归任务"
   ]
  },
  {
   "cell_type": "code",
   "execution_count": 7,
   "id": "5ea5aa97",
   "metadata": {},
   "outputs": [],
   "source": [
    "class CNN(nn.Module):\n",
    "    def __init__(self):\n",
    "        super(CNN, self).__init__()\n",
    "        self.conv1 = nn.Sequential(       # 输入大小：1，28，28\n",
    "            nn.Conv2d(\n",
    "                in_channels=1,            # 灰度图\n",
    "                out_channels=16,          # 要得到多少个特诊\n",
    "                kernel_size=5,            # 卷积核大小\n",
    "                stride=1,                 # 步长\n",
    "                # 如果希望卷积后大小和原来一样，需要设置 padding = (kernel_size-1)/2 if strude = 1\n",
    "                padding=2,\n",
    "            ),\n",
    "            nn.ReLU(),                     # relu 层\n",
    "            nn.MaxPool2d(kernel_size=2),   # 进行池化操作（2x2 区域），输出结果为：16, 14, 14\n",
    "        )\n",
    "        self.conv2 = nn.Sequential(        # 下一个输入是 16, 14, 14\n",
    "            nn.Conv2d(16, 32, 5, 1, 2),    # 输出 32, 14, 14\n",
    "            nn.ReLU(),                     # relu 层\n",
    "            nn.MaxPool2d(2)                # 输出 32, 7, 7\n",
    "        )\n",
    "        self.out = nn.Linear(32*7*7, 10)   # 全连接层得到的结果\n",
    "        \n",
    "    def forward(self, x):\n",
    "        x = self.conv1(x)\n",
    "        x = self.conv2(x)\n",
    "        x = x.view(x.size(0), -1)          # flatten 操作，结果为：batch_size, 32 * 7 * 7\n",
    "        output = self.out(x)\n",
    "        return output"
   ]
  },
  {
   "cell_type": "markdown",
   "id": "17712a12",
   "metadata": {},
   "source": [
    "## 准确率作为评估标准"
   ]
  },
  {
   "cell_type": "code",
   "execution_count": 8,
   "id": "d15d4b8f",
   "metadata": {},
   "outputs": [],
   "source": [
    "# 评估函数\n",
    "def accuracy(predictions, labels):\n",
    "    pred = torch.max(predictions.data, 1)[1] \n",
    "    rights = pred.eq(labels.data.view_as(pred)).sum() \n",
    "    return rights, len(labels)"
   ]
  },
  {
   "cell_type": "markdown",
   "id": "88f92b07",
   "metadata": {},
   "source": [
    "## 训练网络模型"
   ]
  },
  {
   "cell_type": "code",
   "execution_count": 9,
   "id": "14a5af59",
   "metadata": {
    "scrolled": true
   },
   "outputs": [
    {
     "name": "stdout",
     "output_type": "stream",
     "text": [
      "Train Epoch: 0 [0/60000 (0%)]\tLoss: 2.285724\tTraining set accuracy: 7.81%\tTest set accuracy: 10.32%\n",
      "Train Epoch: 0 [6400/60000 (11%)]\tLoss: 0.182356\tTraining set accuracy: 75.67%\tTest set accuracy: 91.70%\n",
      "Train Epoch: 0 [12800/60000 (21%)]\tLoss: 0.300249\tTraining set accuracy: 84.33%\tTest set accuracy: 93.73%\n",
      "Train Epoch: 0 [19200/60000 (32%)]\tLoss: 0.157097\tTraining set accuracy: 87.90%\tTest set accuracy: 95.85%\n",
      "Train Epoch: 0 [25600/60000 (43%)]\tLoss: 0.068983\tTraining set accuracy: 89.89%\tTest set accuracy: 96.61%\n",
      "Train Epoch: 0 [32000/60000 (53%)]\tLoss: 0.013333\tTraining set accuracy: 91.24%\tTest set accuracy: 97.17%\n",
      "Train Epoch: 0 [38400/60000 (64%)]\tLoss: 0.134649\tTraining set accuracy: 92.22%\tTest set accuracy: 97.45%\n",
      "Train Epoch: 0 [44800/60000 (75%)]\tLoss: 0.118037\tTraining set accuracy: 92.94%\tTest set accuracy: 97.90%\n",
      "Train Epoch: 0 [51200/60000 (85%)]\tLoss: 0.028242\tTraining set accuracy: 93.47%\tTest set accuracy: 97.71%\n",
      "Train Epoch: 0 [57600/60000 (96%)]\tLoss: 0.032020\tTraining set accuracy: 93.94%\tTest set accuracy: 97.62%\n",
      "Train Epoch: 1 [0/60000 (0%)]\tLoss: 0.020575\tTraining set accuracy: 100.00%\tTest set accuracy: 98.31%\n",
      "Train Epoch: 1 [6400/60000 (11%)]\tLoss: 0.017081\tTraining set accuracy: 97.80%\tTest set accuracy: 98.08%\n",
      "Train Epoch: 1 [12800/60000 (21%)]\tLoss: 0.030328\tTraining set accuracy: 98.00%\tTest set accuracy: 98.28%\n",
      "Train Epoch: 1 [19200/60000 (32%)]\tLoss: 0.036480\tTraining set accuracy: 98.02%\tTest set accuracy: 98.70%\n",
      "Train Epoch: 1 [25600/60000 (43%)]\tLoss: 0.038727\tTraining set accuracy: 98.07%\tTest set accuracy: 98.01%\n",
      "Train Epoch: 1 [32000/60000 (53%)]\tLoss: 0.004890\tTraining set accuracy: 98.13%\tTest set accuracy: 98.27%\n",
      "Train Epoch: 1 [38400/60000 (64%)]\tLoss: 0.016343\tTraining set accuracy: 98.10%\tTest set accuracy: 98.30%\n",
      "Train Epoch: 1 [44800/60000 (75%)]\tLoss: 0.010726\tTraining set accuracy: 98.16%\tTest set accuracy: 98.66%\n",
      "Train Epoch: 1 [51200/60000 (85%)]\tLoss: 0.050597\tTraining set accuracy: 98.20%\tTest set accuracy: 98.65%\n",
      "Train Epoch: 1 [57600/60000 (96%)]\tLoss: 0.115673\tTraining set accuracy: 98.22%\tTest set accuracy: 98.67%\n",
      "Train Epoch: 2 [0/60000 (0%)]\tLoss: 0.038240\tTraining set accuracy: 98.44%\tTest set accuracy: 98.80%\n",
      "Train Epoch: 2 [6400/60000 (11%)]\tLoss: 0.023014\tTraining set accuracy: 98.67%\tTest set accuracy: 98.65%\n",
      "Train Epoch: 2 [12800/60000 (21%)]\tLoss: 0.034143\tTraining set accuracy: 98.65%\tTest set accuracy: 98.73%\n",
      "Train Epoch: 2 [19200/60000 (32%)]\tLoss: 0.050953\tTraining set accuracy: 98.69%\tTest set accuracy: 98.78%\n",
      "Train Epoch: 2 [25600/60000 (43%)]\tLoss: 0.005390\tTraining set accuracy: 98.66%\tTest set accuracy: 98.65%\n",
      "Train Epoch: 2 [32000/60000 (53%)]\tLoss: 0.028398\tTraining set accuracy: 98.66%\tTest set accuracy: 98.53%\n",
      "Train Epoch: 2 [38400/60000 (64%)]\tLoss: 0.087241\tTraining set accuracy: 98.72%\tTest set accuracy: 98.66%\n",
      "Train Epoch: 2 [44800/60000 (75%)]\tLoss: 0.050697\tTraining set accuracy: 98.68%\tTest set accuracy: 98.71%\n",
      "Train Epoch: 2 [51200/60000 (85%)]\tLoss: 0.111648\tTraining set accuracy: 98.66%\tTest set accuracy: 98.77%\n",
      "Train Epoch: 2 [57600/60000 (96%)]\tLoss: 0.007561\tTraining set accuracy: 98.65%\tTest set accuracy: 98.96%\n"
     ]
    }
   ],
   "source": [
    "# 实例化\n",
    "net = CNN() \n",
    "#损失函数\n",
    "criterion = nn.CrossEntropyLoss() \n",
    "#优化器\n",
    "optimizer = optim.Adam(net.parameters(), lr=0.001) #定义优化器，普通的随机梯度下降算法\n",
    "\n",
    "#开始训练循环\n",
    "for epoch in range(num_epochs):\n",
    "    #当前epoch的结果保存下来\n",
    "    train_rights = [] \n",
    "    \n",
    "    for batch_idx, (data, target) in enumerate(train_loader):  #针对容器中的每一个批进行循环\n",
    "        net.train()                             \n",
    "        output = net(data) \n",
    "        loss = criterion(output, target) \n",
    "        optimizer.zero_grad() \n",
    "        loss.backward() \n",
    "        optimizer.step() \n",
    "        right = accuracy(output, target) \n",
    "        train_rights.append(right) \n",
    "\n",
    "    \n",
    "        if batch_idx % 100 == 0: \n",
    "            \n",
    "            net.eval() \n",
    "            val_rights = [] \n",
    "            \n",
    "            for (data, target) in test_loader:\n",
    "                output = net(data) \n",
    "                right = accuracy(output, target) \n",
    "                val_rights.append(right)\n",
    "                \n",
    "            #准确率计算\n",
    "            train_r = (sum([tup[0] for tup in train_rights]), sum([tup[1] for tup in train_rights]))\n",
    "            val_r = (sum([tup[0] for tup in val_rights]), sum([tup[1] for tup in val_rights]))\n",
    "    \n",
    "            print('Train Epoch: {} [{}/{} ({:.0f}%)]\\tLoss: {:.6f}\\tTraining set accuracy: {:.2f}%\\tTest set accuracy: {:.2f}%'.format(\n",
    "                epoch, batch_idx * batch_size, len(train_loader.dataset),\n",
    "                100. * batch_idx / len(train_loader), \n",
    "                loss.data, \n",
    "                100. * train_r[0].numpy() / train_r[1], \n",
    "                100. * val_r[0].numpy() / val_r[1]))\n",
    "            torch.save(net.state_dict(), 'results/model.pth')\n",
    "            torch.save(optimizer.state_dict(), 'results/optimizer.pth')"
   ]
  },
  {
   "cell_type": "code",
   "execution_count": null,
   "id": "8d9d7423",
   "metadata": {},
   "outputs": [],
   "source": []
  },
  {
   "cell_type": "code",
   "execution_count": null,
   "id": "c6e71482",
   "metadata": {},
   "outputs": [],
   "source": []
  },
  {
   "cell_type": "code",
   "execution_count": null,
   "id": "dbcef5d9",
   "metadata": {},
   "outputs": [],
   "source": []
  }
 ],
 "metadata": {
  "kernelspec": {
   "display_name": "Python 3 (ipykernel)",
   "language": "python",
   "name": "python3"
  },
  "language_info": {
   "codemirror_mode": {
    "name": "ipython",
    "version": 3
   },
   "file_extension": ".py",
   "mimetype": "text/x-python",
   "name": "python",
   "nbconvert_exporter": "python",
   "pygments_lexer": "ipython3",
   "version": "3.9.7"
  }
 },
 "nbformat": 4,
 "nbformat_minor": 5
}
